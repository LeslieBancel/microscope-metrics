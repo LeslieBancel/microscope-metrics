{
 "cells": [
  {
   "cell_type": "markdown",
   "metadata": {
    "pycharm": {
     "name": "#%% md\n"
    }
   },
   "source": [
    "Preparing necessary imports"
   ]
  },
  {
   "cell_type": "code",
   "execution_count": 19,
   "metadata": {
    "jupyter": {
     "source_hidden": true
    },
    "pycharm": {
     "name": "#%%\n"
    }
   },
   "outputs": [],
   "source": [
    "import numpy as np\n",
    "import ipywidgets as widgets\n",
    "from IPython.display import display\n",
    "import matplotlib.pyplot as plt\n",
    "from getpass import getpass\n",
    "import omero.gateway as gw\n",
    "import omero\n",
    "import metrics.interface.omero as toolbox\n",
    "import matplotlib.pyplot as plt\n",
    "from matplotlib import cm\n",
    "import numpy as np\n",
    "from scipy.interpolate import griddata\n",
    "\n",
    "\n",
    "from bokeh.io import output_file, show\n",
    "from bokeh.layouts import gridplot\n",
    "from bokeh.plotting import figure\n",
    "from bokeh.models import ColorBar, LinearColorMapper, LogColorMapper, Label\n",
    "\n",
    "\n",
    "from credentials import *"
   ]
  },
  {
   "cell_type": "markdown",
   "metadata": {
    "pycharm": {
     "name": "#%% md\n"
    }
   },
   "source": [
    "### Defining display functions and a tag_to_function mapping"
   ]
  },
  {
   "cell_type": "code",
   "execution_count": 20,
   "metadata": {
    "jupyter": {
     "source_hidden": true
    },
    "pycharm": {
     "name": "#%%\n"
    }
   },
   "outputs": [],
   "source": [
    "def print_map_ann(image):\n",
    "    print(f'Measurements for image id: {image.getId()}\\n{image.getName()}')\n",
    "    for ann in image.listAnnotations():\n",
    "        if ann.OMERO_TYPE == omero.model.MapAnnotationI and \\\n",
    "            ann.getNs().startswith('metrics'):\n",
    "            print('Key: value')\n",
    "            for m in ann.getValue():\n",
    "                print(f'{m[0]}: {m[1]}')\n",
    "\n",
    "def get_tables(omero_object, namespace_start='', name_filter=''):\n",
    "    tables_list = list()\n",
    "    resources = omero_object._conn.getSharedResources()\n",
    "    for ann in omero_object.listAnnotations():\n",
    "        if isinstance(ann, gw.FileAnnotationWrapper) and \\\n",
    "                ann.getNs().startswith(namespace_start) and \\\n",
    "                name_filter in ann.getFileName():\n",
    "            table_file = omero_object._conn.getObject(\"OriginalFile\", attributes={'name': ann.getFileName()})\n",
    "            table = resources.openTable(table_file._obj)\n",
    "            tables_list.append(table)\n",
    "\n",
    "    return tables_list\n",
    "\n",
    "def plot_homogeneity_map(image):\n",
    "    nr_channels = image.getSizeC()\n",
    "    x_dim = image.getSizeX()\n",
    "    y_dim = image.getSizeY()\n",
    "\n",
    "    tables = get_tables(image, namespace_start='metrics', name_filter='properties')\n",
    "    if len(tables) != 1:\n",
    "        raise Exception('There are none or more than one properties tables. Verify data integrity.')\n",
    "    table = tables[0]\n",
    "\n",
    "    row_count = table.getNumberOfRows()\n",
    "    col_names = [c.name for c in table.getHeaders()]\n",
    "    wanted_columns = ['channel',\n",
    "                      'max_intensity',\n",
    "                      'mean_intensity',\n",
    "                      'integrated_intensity',\n",
    "                      'x_weighted_centroid',\n",
    "                      'y_weighted_centroid']\n",
    "\n",
    "    fig, axes = plt.subplots(ncols=nr_channels, nrows=3, squeeze=False, figsize=(3 * nr_channels, 9))\n",
    "\n",
    "    for c in range(nr_channels):\n",
    "        data = table.slice([col_names.index(w_col) for w_col in wanted_columns],\n",
    "                           table.getWhereList(condition=f'channel=={c}', variables={}, start=0, stop=row_count, step=0))\n",
    "        max_intensity = np.array([val for col in data.columns for val in col.values if col.name == 'max_intensity'])\n",
    "        integrated_intensity = np.array([val for col in data.columns for val in col.values if col.name == 'integrated_intensity'])\n",
    "        x_positions = np.array([val for col in data.columns for val in col.values if col.name == 'x_weighted_centroid'])\n",
    "        y_positions = np.array([val for col in data.columns for val in col.values if col.name == 'y_weighted_centroid'])\n",
    "        grid_x, grid_y = np.mgrid[0:x_dim, 0:y_dim]\n",
    "        image_intensities = toolbox.get_intensities(image, c_range=c, t_range=0).max(0)\n",
    "\n",
    "        try:\n",
    "            interpolated_max_int = griddata(np.stack((x_positions, y_positions), axis=1),\n",
    "                                            max_intensity, (grid_x, grid_y), method='linear')\n",
    "            interpolated_intgr_int = griddata(np.stack((x_positions, y_positions), axis=1),\n",
    "                                              integrated_intensity, (grid_x, grid_y), method='linear')\n",
    "        except Exception as e:\n",
    "            # TODO: Log a warning\n",
    "            interpolated_max_int = np.zeros((256, 256))\n",
    "\n",
    "        ax = axes.ravel()\n",
    "        ax[c] = plt.subplot(3, 4, c + 1)\n",
    "\n",
    "        ax[c].imshow(np.squeeze(image_intensities), cmap='gray')\n",
    "        ax[c].set_title('MIP_' + str(c))\n",
    "\n",
    "        ax[c + nr_channels].imshow(np.flipud(interpolated_intgr_int),\n",
    "                                   extent=(0, x_dim, y_dim, 0),\n",
    "                                   origin='lower',\n",
    "                                   cmap=cm.hot,\n",
    "                                   vmin=np.amin(integrated_intensity),\n",
    "                                   vmax=np.amax(integrated_intensity))\n",
    "        ax[c + nr_channels].plot(x_positions, y_positions, 'k.', ms=2)\n",
    "        ax[c + nr_channels].set_title('Integrated_int_' + str(c))\n",
    "\n",
    "        ax[c + 2 * nr_channels].imshow(np.flipud(interpolated_max_int),\n",
    "                                       extent=(0, x_dim, y_dim, 0),\n",
    "                                       origin='lower',\n",
    "                                       cmap=cm.hot,\n",
    "                                       vmin=np.amin(image_intensities),\n",
    "                                       vmax=np.amax(image_intensities))\n",
    "        ax[c + 2 * nr_channels].plot(x_positions, y_positions, 'k.', ms=2)\n",
    "        ax[c + 2 * nr_channels].set_title('Max_int_' + str(c))\n",
    "\n",
    "    plt.show()\n",
    "\n",
    "def plot_distances_map(image):\n",
    "    nr_channels = image.getSizeC()\n",
    "    x_dim = image.getSizeX()\n",
    "    y_dim = image.getSizeY()\n",
    "\n",
    "    tables = get_tables(image, namespace_start='metrics', name_filter='distances')\n",
    "    if len(tables) != 1:\n",
    "        raise Exception('There are none or more than one distances tables. Verify data integrity.')\n",
    "    table = tables[0]\n",
    "    row_count = table.getNumberOfRows()\n",
    "    col_names = [c.name for c in table.getHeaders()]\n",
    "\n",
    "    # We need the positions too\n",
    "    pos_tables = get_tables(image, namespace_start='metrics', name_filter='properties')\n",
    "    if len(tables) != 1:\n",
    "        raise Exception('There are none or more than one positions tables. Verify data integrity.')\n",
    "    pos_table = pos_tables[0]\n",
    "    pos_row_count = pos_table.getNumberOfRows()\n",
    "    pos_col_names = [c.name for c in pos_table.getHeaders()]\n",
    "\n",
    "    fig, axes = plt.subplots(ncols=nr_channels - 1, nrows=nr_channels, squeeze=False, figsize=((nr_channels - 1) * 3, nr_channels * 3))\n",
    "\n",
    "    ax_index = 0\n",
    "    for ch_A in range(nr_channels):\n",
    "        pos_data = pos_table.slice([pos_col_names.index(w_col) for w_col in ['channel',\n",
    "                                                                             'mask_labels',\n",
    "                                                                             'x_weighted_centroid',\n",
    "                                                                             'y_weighted_centroid']],\n",
    "                                   pos_table.getWhereList(condition=f'channel=={ch_A}', variables={}, start=0,\n",
    "                                                          stop=pos_row_count, step=0))\n",
    "\n",
    "        mask_labels = np.array(\n",
    "            [val for col in pos_data.columns for val in col.values if col.name == 'mask_labels'])\n",
    "        x_positions = np.array(\n",
    "            [val for col in pos_data.columns for val in col.values if col.name == 'x_weighted_centroid'])\n",
    "        y_positions = np.array(\n",
    "            [val for col in pos_data.columns for val in col.values if col.name == 'y_weighted_centroid'])\n",
    "        positions_map = np.stack((x_positions, y_positions), axis=1)\n",
    "\n",
    "        for ch_B in [i for i in range(nr_channels) if i != ch_A]:\n",
    "            data = table.slice(list(range(len(col_names))),\n",
    "                               table.getWhereList(condition=f'(channel_A=={ch_A})&(channel_B=={ch_B})', variables={}, start=0, stop=row_count, step=0))\n",
    "            labels_map = np.array([val for col in data.columns for val in col.values if col.name == 'ch_A_roi_labels'])\n",
    "            labels_map += 1  # Mask labels are augmented by one as 0 is background\n",
    "            distances_map_3d = np.array([val for col in data.columns for val in col.values if col.name == 'distance_3d'])\n",
    "            distances_map_x = np.array([val for col in data.columns for val in col.values if col.name == 'distance_x'])\n",
    "            distances_map_y = np.array([val for col in data.columns for val in col.values if col.name == 'distance_y'])\n",
    "            distances_map_z = np.array([val for col in data.columns for val in col.values if col.name == 'distance_z'])\n",
    "\n",
    "            filtered_positions = positions_map[np.intersect1d(mask_labels, labels_map, assume_unique=True, return_indices=True)[1], :]\n",
    "\n",
    "            grid_x, grid_y = np.mgrid[0:x_dim:1, 0:y_dim:1]\n",
    "            interpolated = griddata(filtered_positions, distances_map_3d, (grid_x, grid_y), method='cubic')\n",
    "\n",
    "            ax = axes.ravel()\n",
    "            ax[ax_index].imshow(np.flipud(interpolated),\n",
    "                                extent=(0, x_dim, y_dim, 0),\n",
    "                                origin='lower',\n",
    "                                cmap=cm.hot,\n",
    "                                vmin=np.amin(distances_map_3d),\n",
    "                                vmax=np.amax(distances_map_3d)\n",
    "                                )\n",
    "            ax[ax_index].set_title(f'Distance Ch{ch_A}-Ch{ch_B}')\n",
    "\n",
    "            ax_index += 1\n",
    "\n",
    "    plt.show()\n",
    "    \n",
    "def plot_distances_map_bokeh(image):\n",
    "    nr_channels = image.getSizeC()\n",
    "    x_dim = image.getSizeX()\n",
    "    y_dim = image.getSizeY()\n",
    "\n",
    "    tables = get_tables(image, namespace_start='metrics', name_filter='distances')\n",
    "    if len(tables) != 1:\n",
    "        raise Exception('There are none or more than one distances tables. Verify data integrity.')\n",
    "    table = tables[0]\n",
    "    row_count = table.getNumberOfRows()\n",
    "    col_names = [c.name for c in table.getHeaders()]\n",
    "\n",
    "    # We need the positions too\n",
    "    pos_tables = get_tables(image, namespace_start='metrics', name_filter='properties')\n",
    "    if len(tables) != 1:\n",
    "        raise Exception('There are none or more than one positions tables. Verify data integrity.')\n",
    "    pos_table = pos_tables[0]\n",
    "    pos_row_count = pos_table.getNumberOfRows()\n",
    "    pos_col_names = [c.name for c in pos_table.getHeaders()]\n",
    "\n",
    "    # Prepare the plot\n",
    "    plots = [[] for x in range(nr_channels)]\n",
    "    # output_file(\"distances_map.html\", title=f\"Distances map for {image.getName()}\\nAcquisition date: {image.getAcquisitionDate()}\")\n",
    "    color_mapper = LinearColorMapper(palette=\"Inferno256\", low=0, high=1)\n",
    "    color_bar = ColorBar(color_mapper=color_mapper, label_standoff=10, location=(0, 0))\n",
    "\n",
    "    for ch_A in range(nr_channels):\n",
    "        pos_data = pos_table.slice([pos_col_names.index(w_col) for w_col in ['channel',\n",
    "                                                                             'mask_labels',\n",
    "                                                                             'x_weighted_centroid',\n",
    "                                                                             'y_weighted_centroid']],\n",
    "                                   pos_table.getWhereList(condition=f'channel=={ch_A}', variables={}, start=0,\n",
    "                                                          stop=pos_row_count, step=0))\n",
    "\n",
    "        mask_labels = np.array(\n",
    "            [val for col in pos_data.columns for val in col.values if col.name == 'mask_labels'])\n",
    "        x_positions = np.array(\n",
    "            [val for col in pos_data.columns for val in col.values if col.name == 'x_weighted_centroid'])\n",
    "        y_positions = np.array(\n",
    "            [val for col in pos_data.columns for val in col.values if col.name == 'y_weighted_centroid'])\n",
    "        positions_map = np.stack((x_positions, y_positions), axis=1)\n",
    "\n",
    "        for ch_B in [i for i in range(nr_channels) if i != ch_A]:\n",
    "            data = table.slice(list(range(len(col_names))),\n",
    "                               table.getWhereList(condition=f'(channel_A=={ch_A})&(channel_B=={ch_B})', variables={}, start=0, stop=row_count, step=0))\n",
    "            labels_map = np.array([val for col in data.columns for val in col.values if col.name == 'ch_A_roi_labels'])\n",
    "            labels_map += 1  # Mask labels are augmented by one as 0 is background\n",
    "            distances_map_3d = np.array([val for col in data.columns for val in col.values if col.name == 'distance_3d'])\n",
    "            distances_map_x = np.array([val for col in data.columns for val in col.values if col.name == 'distance_x'])\n",
    "            distances_map_y = np.array([val for col in data.columns for val in col.values if col.name == 'distance_y'])\n",
    "            distances_map_z = np.array([val for col in data.columns for val in col.values if col.name == 'distance_z'])\n",
    "\n",
    "            filtered_positions = positions_map[np.intersect1d(mask_labels, labels_map, assume_unique=True, return_indices=True)[1], :]\n",
    "\n",
    "            grid_x, grid_y = np.mgrid[0:x_dim:1, 0:y_dim:1]\n",
    "            interpolated = griddata(filtered_positions, distances_map_3d, (grid_x, grid_y), method='cubic')\n",
    "\n",
    "            p = figure()\n",
    "            p.title.text = f'Distance Ch{ch_A}-Ch{ch_B}'\n",
    "            p.title.align = 'center'\n",
    "            p.title.text_font_size = '18px'\n",
    "            p.image(image=[interpolated],\n",
    "                    x=0, y=0, dw=x_dim, dh=y_dim,\n",
    "                    color_mapper=color_mapper)\n",
    "            p.add_layout(color_bar, 'right')\n",
    "\n",
    "            plots[ch_A].append(p)\n",
    "\n",
    "    grid = gridplot(plots, plot_width=200 * (nr_channels - 1), sizing_mode='scale_both') #, plot_height=100 * nr_channels)\n",
    "\n",
    "    show(grid)\n",
    "\n",
    "def plot_psfs(image):\n",
    "    def plot_mip(image, title):\n",
    "        fig = figure()\n",
    "        fig.title.text = title\n",
    "        fig.title.align = 'center'\n",
    "        fig.image(image=[image], x=0, y=0, dw=image.shape[0], dh=image.shape[1], palette=\"Inferno256\")\n",
    "\n",
    "        return fig\n",
    "\n",
    "    def plot_prof(profiles, title, fwhm):\n",
    "        fig = figure()\n",
    "        fig.title.text = title\n",
    "        fig.title.align = 'center'\n",
    "        fig.line(range(profiles[0].shape[0]), profiles[0], line_width=2, line_color=\"navy\",)\n",
    "        fig.line(range(profiles[1].shape[0]), profiles[1], line_width=2, line_color='red', line_dash='dashed')\n",
    "        fig.add_layout(Label(x=0, y=profiles[0].max() / 2, text=f'{fwhm:.3f}',\n",
    "                             background_fill_color='white', background_fill_alpha=.6))\n",
    "\n",
    "        return fig\n",
    "\n",
    "    pixel_size = (image.getPixelSizeZ(),\n",
    "                  image.getPixelSizeY(),\n",
    "                  image.getPixelSizeX())\n",
    "\n",
    "\n",
    "    properties_tables = get_tables(image, namespace_start='metrics', name_filter='properties')\n",
    "    if len(properties_tables) != 1:\n",
    "        raise Exception('There are none or more than one distances tables. Verify data integrity.')\n",
    "    properties_table = properties_tables[0]\n",
    "    properties_row_count = properties_table.getNumberOfRows()\n",
    "    properties_col_names = [c.name for c in properties_table.getHeaders()]\n",
    "    properties_data = properties_table.readCoordinates(list(range(properties_row_count)))\n",
    "\n",
    "    x_profiles_table = get_tables(image, namespace_start='metrics', name_filter='X_profiles')[0]\n",
    "    x_profiles_data = x_profiles_table.readCoordinates(list(range(x_profiles_table.getNumberOfRows())))\n",
    "\n",
    "    y_profiles_table = get_tables(image, namespace_start='metrics', name_filter='Y_profiles')[0]\n",
    "    y_profiles_data = y_profiles_table.readCoordinates(list(range(y_profiles_table.getNumberOfRows())))\n",
    "\n",
    "    z_profiles_table = get_tables(image, namespace_start='metrics', name_filter='Z_profiles')[0]\n",
    "    z_profiles_data = z_profiles_table.readCoordinates(list(range(z_profiles_table.getNumberOfRows())))\n",
    "\n",
    "    psf_images = list(image._conn.getObjects('Image', ids=[val for col in properties_data.columns for val in col.values if col.name == 'bead_image']))\n",
    "    x_fwhms = [val for col in properties_data.columns for val in col.values if col.name == 'x_fwhm']\n",
    "    y_fwhms = [val for col in properties_data.columns for val in col.values if col.name == 'y_fwhm']\n",
    "    z_fwhms = [val for col in properties_data.columns for val in col.values if col.name == 'z_fwhm']\n",
    "    fwhm_units = [val for col in properties_data.columns for val in col.values if col.name == 'fwhm_units'][0]\n",
    "\n",
    "    # Prepare the plot\n",
    "    plots = [[] for x in range(properties_row_count)]\n",
    "    output_file(\"psfs.html\", title=f\"PSFs for image {image.getName()}\\nAcquisition date: {image.getAcquisitionDate()}\")\n",
    "    # color_bar = ColorBar(color_mapper=color_mapper, label_standoff=10, location=(0, 0))\n",
    "\n",
    "    for i, (psf_image, x_fwhm, y_fwhm, z_fwhm) in enumerate(zip(psf_images, x_fwhms, y_fwhms, z_fwhms)):\n",
    "        psf_intensities = np.squeeze(toolbox.get_intensities(psf_image))\n",
    "        x_dim = psf_image.getSizeX()\n",
    "        y_dim = psf_image.getSizeY()\n",
    "        z_dim = psf_image.getSizeZ()\n",
    "        x_mip = psf_intensities.max(axis=2)\n",
    "        y_mip = psf_intensities.max(axis=1)\n",
    "        z_mip = psf_intensities.max(axis=0)\n",
    "        x_raw_profile = np.array([val for col in x_profiles_data.columns for val in col.values if col.name == f'raw_x_profile_bead-{i:02d}'])\n",
    "        x_fitted_profile = np.array([val for col in x_profiles_data.columns for val in col.values if col.name == f'fitted_x_profile_bead-{i:02d}'])\n",
    "        y_raw_profile = np.array([val for col in y_profiles_data.columns for val in col.values if col.name == f'raw_y_profile_bead-{i:02d}'])\n",
    "        y_fitted_profile = np.array([val for col in y_profiles_data.columns for val in col.values if col.name == f'fitted_y_profile_bead-{i:02d}'])\n",
    "        z_raw_profile = np.array([val for col in z_profiles_data.columns for val in col.values if col.name == f'raw_z_profile_bead-{i:02d}'])\n",
    "        z_fitted_profile = np.array([val for col in z_profiles_data.columns for val in col.values if col.name == f'fitted_z_profile_bead-{i:02d}'])\n",
    "\n",
    "        color_mapper = LogColorMapper(palette=\"Inferno256\", low=0, high=psf_intensities.max())\n",
    "\n",
    "        x_mip_fig = plot_mip(x_mip, f'X MIP bead {i}')\n",
    "        y_mip_fig = plot_mip(y_mip, f'Y MIP bead {i}')\n",
    "        z_mip_fig = plot_mip(z_mip, f'Z MIP bead {i}')\n",
    "\n",
    "        x_prof_fig = plot_prof((x_raw_profile, x_fitted_profile), f'X profile bead {i}', x_fwhm)\n",
    "        y_prof_fig = plot_prof((y_raw_profile, y_fitted_profile), f'Y profile bead {i}', y_fwhm)\n",
    "        z_prof_fig = plot_prof((z_raw_profile, z_fitted_profile), f'Z profile bead {i}', z_fwhm)\n",
    "\n",
    "        plots[i].extend([x_mip_fig, x_prof_fig, y_mip_fig, y_prof_fig, z_mip_fig, z_prof_fig])\n",
    "\n",
    "    grid = gridplot(plots, plot_width=600, sizing_mode='scale_both') #, plot_height=100 * nr_channels)\n",
    "\n",
    "    show(grid)\n",
    "\n",
    "def display_argoSIM_E(images):\n",
    "    for image in images:\n",
    "        print_map_ann(image)\n",
    "        print('Some profiles should go in here')\n",
    "\n",
    "def display_argoSIM_B(images):\n",
    "    for image in images:\n",
    "        print_map_ann(image)\n",
    "        plot_homogeneity_map(image)\n",
    "        plot_distances_map(image)\n",
    "        plot_distances_map_bokeh(image)\n",
    "\n",
    "def display_psfs(images):\n",
    "    for image in images:\n",
    "        plot_psfs(image)\n",
    "\n",
    "\n",
    "\n",
    "tag_to_function = {'Argo-SIM_E_90deg': display_argoSIM_E,\n",
    "                   'Argo-SIM_E_0deg': display_argoSIM_E,\n",
    "                   'Argo-SIM_B': display_argoSIM_B,\n",
    "                   'PSF beads': display_psfs}"
   ]
  },
  {
   "cell_type": "markdown",
   "metadata": {
    "pycharm": {
     "name": "#%% md\n"
    }
   },
   "source": [
    "### Open connection"
   ]
  },
  {
   "cell_type": "code",
   "execution_count": 21,
   "metadata": {
    "jupyter": {
     "source_hidden": true
    },
    "pycharm": {
     "name": "#%%\n"
    }
   },
   "outputs": [
    {
     "name": "stdout",
     "output_type": "stream",
     "text": [
      "Connection successful: True\n"
     ]
    }
   ],
   "source": [
    "conn = gw.BlitzGateway(username=USER,\n",
    "                       passwd=PASSWORD,\n",
    "                       host=HOST,\n",
    "                       group=GROUP,\n",
    "                       port=PORT)\n",
    "\n",
    "# conn = gw.BlitzGateway(username=input('OMERO username:'), password=getpass('OMERO password:'),\n",
    "#                        group=GROUP, host=OMERO_SERVER, port=PORT, secure=True)\n",
    "\n",
    "conn.connect()\n",
    "print(f'Connection successful: {conn.isConnected()}')"
   ]
  },
  {
   "cell_type": "markdown",
   "metadata": {
    "pycharm": {
     "name": "#%% md\n"
    }
   },
   "source": [
    "### Selecting the Microscope"
   ]
  },
  {
   "cell_type": "code",
   "execution_count": 22,
   "metadata": {
    "jupyter": {
     "source_hidden": true
    },
    "pycharm": {
     "name": "#%%\n"
    }
   },
   "outputs": [
    {
     "data": {
      "application/vnd.jupyter.widget-view+json": {
       "model_id": "d27d52fd1b334d6093d10f1247ab2b3b",
       "version_major": 2,
       "version_minor": 0
      },
      "text/plain": [
       "Dropdown(description='Select a microscope:', index=1, options=(('microscope_2', 0), ('microscope_1', 1)), valu…"
      ]
     },
     "metadata": {},
     "output_type": "display_data"
    }
   ],
   "source": [
    "microscopes = list(conn.getObjects('Project'))\n",
    "micr_menu = widgets.Dropdown(options=[(m.getName(), i) for i, m in enumerate(microscopes)],\n",
    "                     value=1,\n",
    "                     description='Select a microscope:',\n",
    "                     disabled=False,)\n",
    "display(micr_menu)"
   ]
  },
  {
   "cell_type": "markdown",
   "metadata": {
    "pycharm": {
     "name": "#%% md\n"
    }
   },
   "source": [
    "### Selecting the Dataset"
   ]
  },
  {
   "cell_type": "code",
   "execution_count": 23,
   "metadata": {
    "jupyter": {
     "source_hidden": true
    },
    "pycharm": {
     "name": "#%%\n"
    }
   },
   "outputs": [
    {
     "data": {
      "application/vnd.jupyter.widget-view+json": {
       "model_id": "0e81ded7bb1743a9a9c68fbea8b8cf41",
       "version_major": 2,
       "version_minor": 0
      },
      "text/plain": [
       "Dropdown(description='Select a dataset:', options=(('2017-02-20_yearly', 0), ('2017-03-20_monthly', 1), ('2017…"
      ]
     },
     "metadata": {},
     "output_type": "display_data"
    }
   ],
   "source": [
    "microscope = microscopes[micr_menu.value]\n",
    "\n",
    "datasets = list(microscope.listChildren())\n",
    "dataset_menu = widgets.Dropdown(options=[(d.getName(), i) for i, d in enumerate(datasets)],\n",
    "                     value=0,\n",
    "                     description='Select a dataset:',\n",
    "                     disabled=False,)\n",
    "display(dataset_menu)"
   ]
  },
  {
   "cell_type": "markdown",
   "metadata": {},
   "source": [
    "### Select the type of analysis to display"
   ]
  },
  {
   "cell_type": "code",
   "execution_count": 24,
   "metadata": {
    "jupyter": {
     "source_hidden": true
    },
    "pycharm": {
     "name": "#%%\n"
    }
   },
   "outputs": [
    {
     "data": {
      "application/vnd.jupyter.widget-view+json": {
       "model_id": "c67d539f38eb45b3816671ff83d1fbfd",
       "version_major": 2,
       "version_minor": 0
      },
      "text/plain": [
       "Dropdown(description='Select an analysis type:', index=2, options=('Argo-SIM_E_90deg', 'Argo-SIM_B', 'PSF bead…"
      ]
     },
     "metadata": {},
     "output_type": "display_data"
    }
   ],
   "source": [
    "dataset = datasets[dataset_menu.value]\n",
    "images = list(dataset.listChildren())\n",
    "\n",
    "# Get the relevant tags associated to the images in the dataset\n",
    "relevant_tags = ['Argo-SIM_B', 'AArgo-SIM_E_0deg', 'Argo-SIM_E_90deg', 'PSF beads']\n",
    "present_tags = []\n",
    "\n",
    "for image in images:\n",
    "    for ann in image.listAnnotations():\n",
    "        if ann.OMERO_TYPE == omero.model.TagAnnotationI and \\\n",
    "                ann.getTextValue() in relevant_tags and \\\n",
    "                ann.getTextValue() not in present_tags:\n",
    "            present_tags.append(ann.getTextValue())\n",
    "\n",
    "tags_menu = widgets.Dropdown(options=[tag for tag in present_tags],\n",
    "                             description='Select an analysis type:',\n",
    "                             value='PSF beads',\n",
    "                             disabled=False,)\n",
    "display(tags_menu)"
   ]
  },
  {
   "cell_type": "markdown",
   "metadata": {
    "pycharm": {
     "name": "#%% md\n"
    }
   },
   "source": [
    "### Run visualization"
   ]
  },
  {
   "cell_type": "code",
   "execution_count": 25,
   "metadata": {
    "jupyter": {
     "source_hidden": true
    },
    "pycharm": {
     "name": "#%%\n"
    }
   },
   "outputs": [],
   "source": [
    "images_to_display = []\n",
    "\n",
    "for image in images:\n",
    "    for ann in image.listAnnotations():\n",
    "        if ann.OMERO_TYPE == omero.model.TagAnnotationI and \\\n",
    "                ann.getTextValue() == tags_menu.value:\n",
    "            images_to_display.append(image)\n",
    "\n",
    "# table = plot_homogeneity_map(images_to_display[0])\n",
    "tag_to_function[tags_menu.value](images_to_display)\n"
   ]
  },
  {
   "cell_type": "code",
   "execution_count": null,
   "metadata": {
    "jupyter": {
     "source_hidden": true
    }
   },
   "outputs": [],
   "source": []
  },
  {
   "cell_type": "code",
   "execution_count": null,
   "metadata": {
    "jupyter": {
     "source_hidden": true
    }
   },
   "outputs": [],
   "source": []
  }
 ],
 "metadata": {
  "kernelspec": {
   "display_name": "Python 3",
   "language": "python",
   "name": "python3"
  },
  "language_info": {
   "codemirror_mode": {
    "name": "ipython",
    "version": 3
   },
   "file_extension": ".py",
   "mimetype": "text/x-python",
   "name": "python",
   "nbconvert_exporter": "python",
   "pygments_lexer": "ipython3",
   "version": "3.7.6"
  }
 },
 "nbformat": 4,
 "nbformat_minor": 4
}