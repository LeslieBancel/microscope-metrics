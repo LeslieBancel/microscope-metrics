{
 "cells": [
  {
   "cell_type": "markdown",
   "metadata": {
    "pycharm": {
     "name": "#%% md\n"
    }
   },
   "source": [
    "Preparing necessary imports"
   ]
  },
  {
   "cell_type": "code",
   "execution_count": 37,
   "metadata": {
    "pycharm": {
     "name": "#%%\n"
    }
   },
   "outputs": [],
   "source": [
    "import numpy as np\n",
    "import ipywidgets as widgets\n",
    "from IPython.display import display\n",
    "import matplotlib.pyplot as plt\n",
    "from getpass import getpass\n",
    "import omero.gateway as gw\n",
    "import omero\n",
    "\n",
    "from credentials import *"
   ]
  },
  {
   "cell_type": "markdown",
   "metadata": {
    "pycharm": {
     "name": "#%% md\n"
    }
   },
   "source": [
    "### Defining display functions and a tag_to_function mapping"
   ]
  },
  {
   "cell_type": "code",
   "execution_count": 38,
   "metadata": {
    "pycharm": {
     "name": "#%%\n"
    }
   },
   "outputs": [],
   "source": [
    "def display_argoSIM_E(images):\n",
    "    for image in images:\n",
    "        print(f'Measurements for image id: {image.getId()}\\n{image.getName()}')\n",
    "        for ann in image.listAnnotations():\n",
    "            if ann.OMERO_TYPE == omero.model.MapAnnotationI and \\\n",
    "                ann.getNs().startswith('metrics'):\n",
    "                print('Key: value')\n",
    "                for m in ann.getValue():\n",
    "                    print(f'{m[0]}: {m[1]}')\n",
    "\n",
    "tag_to_function = {'Argo-SIM_E_90deg': display_argoSIM_E,\n",
    "                   'Argo-SIM_E_0deg': display_argoSIM_E}"
   ]
  },
  {
   "cell_type": "markdown",
   "metadata": {
    "pycharm": {
     "name": "#%% md\n"
    }
   },
   "source": [
    "### Open connection"
   ]
  },
  {
   "cell_type": "code",
   "execution_count": 39,
   "metadata": {
    "pycharm": {
     "name": "#%%\n"
    }
   },
   "outputs": [
    {
     "name": "stdout",
     "output_type": "stream",
     "text": [
      "Connection successful: True\n"
     ]
    }
   ],
   "source": [
    "conn = gw.BlitzGateway(username=USER,\n",
    "                       passwd=PASSWORD,\n",
    "                       host=HOST,\n",
    "                       group=GROUP,\n",
    "                       port=PORT)\n",
    "\n",
    "# conn = gw.BlitzGateway(username=input('OMERO username:'), password=getpass('OMERO password:'),\n",
    "#                        group=GROUP, host=OMERO_SERVER, port=PORT, secure=True)\n",
    "\n",
    "conn.connect()\n",
    "print(f'Connection successful: {conn.isConnected()}')"
   ]
  },
  {
   "cell_type": "markdown",
   "metadata": {
    "collapsed": true,
    "pycharm": {
     "name": "#%% md\n"
    }
   },
   "source": [
    "### Selecting the Microscope"
   ]
  },
  {
   "cell_type": "code",
   "execution_count": 40,
   "metadata": {
    "pycharm": {
     "name": "#%%\n"
    }
   },
   "outputs": [
    {
     "data": {
      "application/vnd.jupyter.widget-view+json": {
       "model_id": "de0e184d4d014b83b5747a8d8edebfc5",
       "version_major": 2,
       "version_minor": 0
      },
      "text/plain": [
       "Dropdown(description='Select a microscope:', options=(('microscope_2', 0), ('microscope_1', 1)), value=0)"
      ]
     },
     "metadata": {},
     "output_type": "display_data"
    }
   ],
   "source": [
    "microscopes = list(conn.getObjects('Project'))\n",
    "micr_menu = widgets.Dropdown(options=[(m.getName(), i) for i, m in enumerate(microscopes)],\n",
    "                     value=0,\n",
    "                     description='Select a microscope:',\n",
    "                     disabled=False,)\n",
    "display(micr_menu)"
   ]
  },
  {
   "cell_type": "markdown",
   "metadata": {
    "pycharm": {
     "name": "#%% md\n"
    }
   },
   "source": [
    "### Selecting the Dataset"
   ]
  },
  {
   "cell_type": "code",
   "execution_count": 41,
   "metadata": {
    "pycharm": {
     "name": "#%%\n"
    }
   },
   "outputs": [
    {
     "data": {
      "application/vnd.jupyter.widget-view+json": {
       "model_id": "7eb9bedac0354a91a8d37b3cff1d3c9c",
       "version_major": 2,
       "version_minor": 0
      },
      "text/plain": [
       "Dropdown(description='Select a dataset:', options=(('2017-02-20_monthly', 0), ('2017-02-20_yearly', 1), ('2017…"
      ]
     },
     "metadata": {},
     "output_type": "display_data"
    }
   ],
   "source": [
    "microscope = microscopes[micr_menu.value]\n",
    "\n",
    "datasets = list(microscope.listChildren())\n",
    "dataset_menu = widgets.Dropdown(options=[(d.getName(), i) for i, d in enumerate(datasets)],\n",
    "                     value=0,\n",
    "                     description='Select a dataset:',\n",
    "                     disabled=False,)\n",
    "display(dataset_menu)"
   ]
  },
  {
   "cell_type": "markdown",
   "metadata": {},
   "source": [
    "### Select the type of analysis to display"
   ]
  },
  {
   "cell_type": "code",
   "execution_count": 44,
   "metadata": {
    "pycharm": {
     "name": "#%%\n"
    }
   },
   "outputs": [
    {
     "data": {
      "application/vnd.jupyter.widget-view+json": {
       "model_id": "f3b7f0bf9cc7451f8472b12d21e0c815",
       "version_major": 2,
       "version_minor": 0
      },
      "text/plain": [
       "Dropdown(description='Select an analysis type:', options=('Argo-SIM_E_90deg', 'Argo-SIM_B', 'PSF beads'), valu…"
      ]
     },
     "metadata": {},
     "output_type": "display_data"
    }
   ],
   "source": [
    "dataset = datasets[dataset_menu.value]\n",
    "images = list(dataset.listChildren())\n",
    "\n",
    "# Get the relevant tags associated to the images in the dataset\n",
    "relevant_tags = ['Argo-SIM_B', 'AArgo-SIM_E_0deg', 'Argo-SIM_E_90deg', 'PSF beads']\n",
    "present_tags = []\n",
    "\n",
    "for image in images:\n",
    "    for ann in image.listAnnotations():\n",
    "        if ann.OMERO_TYPE == omero.model.TagAnnotationI and \\\n",
    "                ann.getTextValue() in relevant_tags and \\\n",
    "                ann.getTextValue() not in present_tags:\n",
    "            present_tags.append(ann.getTextValue())\n",
    "\n",
    "tags_menu = widgets.Dropdown(options=[tag for tag in present_tags],\n",
    "                             description='Select an analysis type:',\n",
    "                             disabled=False,)\n",
    "display(tags_menu)"
   ]
  },
  {
   "cell_type": "markdown",
   "metadata": {
    "pycharm": {
     "name": "#%% md\n"
    }
   },
   "source": [
    "### Run visualization"
   ]
  },
  {
   "cell_type": "code",
   "execution_count": 45,
   "metadata": {
    "pycharm": {
     "name": "#%%\n"
    }
   },
   "outputs": [
    {
     "name": "stdout",
     "output_type": "stream",
     "text": [
      "Measurements for image id: 1\n",
      "201702_RI510_Argolight-1-1_004_SIR_ALX_THR.ome.tif\n"
     ]
    },
    {
     "ename": "TypeError",
     "evalue": "'method' object is not iterable",
     "output_type": "error",
     "traceback": [
      "\u001B[0;31m---------------------------------------------------------------------------\u001B[0m",
      "\u001B[0;31mTypeError\u001B[0m                                 Traceback (most recent call last)",
      "\u001B[0;32m<ipython-input-45-9cda5dd41aff>\u001B[0m in \u001B[0;36m<module>\u001B[0;34m\u001B[0m\n\u001B[1;32m      7\u001B[0m             \u001B[0mimages_to_display\u001B[0m\u001B[0;34m.\u001B[0m\u001B[0mappend\u001B[0m\u001B[0;34m(\u001B[0m\u001B[0mimage\u001B[0m\u001B[0;34m)\u001B[0m\u001B[0;34m\u001B[0m\u001B[0;34m\u001B[0m\u001B[0m\n\u001B[1;32m      8\u001B[0m \u001B[0;34m\u001B[0m\u001B[0m\n\u001B[0;32m----> 9\u001B[0;31m \u001B[0mtag_to_function\u001B[0m\u001B[0;34m[\u001B[0m\u001B[0mtags_menu\u001B[0m\u001B[0;34m.\u001B[0m\u001B[0mvalue\u001B[0m\u001B[0;34m]\u001B[0m\u001B[0;34m(\u001B[0m\u001B[0mimages_to_display\u001B[0m\u001B[0;34m)\u001B[0m\u001B[0;34m\u001B[0m\u001B[0;34m\u001B[0m\u001B[0m\n\u001B[0m",
      "\u001B[0;32m<ipython-input-38-a0f16cc10dbe>\u001B[0m in \u001B[0;36mdisplay_argoSIM_E\u001B[0;34m(images)\u001B[0m\n\u001B[1;32m      2\u001B[0m     \u001B[0;32mfor\u001B[0m \u001B[0mimage\u001B[0m \u001B[0;32min\u001B[0m \u001B[0mimages\u001B[0m\u001B[0;34m:\u001B[0m\u001B[0;34m\u001B[0m\u001B[0;34m\u001B[0m\u001B[0m\n\u001B[1;32m      3\u001B[0m         \u001B[0mprint\u001B[0m\u001B[0;34m(\u001B[0m\u001B[0;34mf'Measurements for image id: {image.getId()}\\n{image.getName()}'\u001B[0m\u001B[0;34m)\u001B[0m\u001B[0;34m\u001B[0m\u001B[0;34m\u001B[0m\u001B[0m\n\u001B[0;32m----> 4\u001B[0;31m         \u001B[0;32mfor\u001B[0m \u001B[0mann\u001B[0m \u001B[0;32min\u001B[0m \u001B[0mimage\u001B[0m\u001B[0;34m.\u001B[0m\u001B[0mlistAnnotations\u001B[0m\u001B[0;34m:\u001B[0m\u001B[0;34m\u001B[0m\u001B[0;34m\u001B[0m\u001B[0m\n\u001B[0m\u001B[1;32m      5\u001B[0m             \u001B[0;32mif\u001B[0m \u001B[0mann\u001B[0m\u001B[0;34m.\u001B[0m\u001B[0mOMERO_TYPE\u001B[0m \u001B[0;34m==\u001B[0m \u001B[0momero\u001B[0m\u001B[0;34m.\u001B[0m\u001B[0mmodel\u001B[0m\u001B[0;34m.\u001B[0m\u001B[0mMapAnnotationI\u001B[0m \u001B[0;32mand\u001B[0m\u001B[0;31m \u001B[0m\u001B[0;31m\\\u001B[0m\u001B[0;34m\u001B[0m\u001B[0;34m\u001B[0m\u001B[0m\n\u001B[1;32m      6\u001B[0m                 \u001B[0mann\u001B[0m\u001B[0;34m.\u001B[0m\u001B[0mgetNs\u001B[0m\u001B[0;34m(\u001B[0m\u001B[0;34m)\u001B[0m\u001B[0;34m.\u001B[0m\u001B[0mstartswith\u001B[0m\u001B[0;34m(\u001B[0m\u001B[0;34m'metrics'\u001B[0m\u001B[0;34m)\u001B[0m\u001B[0;34m:\u001B[0m\u001B[0;34m\u001B[0m\u001B[0;34m\u001B[0m\u001B[0m\n",
      "\u001B[0;31mTypeError\u001B[0m: 'method' object is not iterable"
     ]
    }
   ],
   "source": [
    "images_to_display = []\n",
    "\n",
    "for image in images:\n",
    "    for ann in image.listAnnotations():\n",
    "        if ann.OMERO_TYPE == omero.model.TagAnnotationI and \\\n",
    "                ann.getTextValue() == tags_menu.value:\n",
    "            images_to_display.append(image)\n",
    "\n",
    "tag_to_function[tags_menu.value](images_to_display)\n"
   ]
  },
  {
   "cell_type": "code",
   "execution_count": null,
   "metadata": {},
   "outputs": [],
   "source": []
  }
 ],
 "metadata": {
  "kernelspec": {
   "display_name": "Python 3",
   "language": "python",
   "name": "python3"
  },
  "language_info": {
   "codemirror_mode": {
    "name": "ipython",
    "version": 3
   },
   "file_extension": ".py",
   "mimetype": "text/x-python",
   "name": "python",
   "nbconvert_exporter": "python",
   "pygments_lexer": "ipython3",
   "version": "3.7.6"
  }
 },
 "nbformat": 4,
 "nbformat_minor": 1
}